count = 0
name = input('Enter your name!')
for letter in name:
  count += 1
print('There are ', count, 'in your name!')
