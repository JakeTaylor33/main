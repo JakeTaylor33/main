count = 0
name = input('Enter your name!')
age = input('Enter your age')
for letter in name:
  count += 1
print('There are '+count+ ' in your name! You are '+age+' years old!')


